{
 "cells": [
  {
   "cell_type": "markdown",
   "id": "3affbc15",
   "metadata": {},
   "source": [
    "## 基本要求\n",
    "a) 采用分层采样的方式将数据集划分为训练集和测试集。  \n",
    "b) 给定编写一个朴素贝叶斯分类器，对测试集进行预测，计算分类准确率。"
   ]
  },
  {
   "cell_type": "code",
   "execution_count": 18,
   "id": "92024d14",
   "metadata": {},
   "outputs": [],
   "source": [
    "import math\n",
    "import numpy as np  \n",
    "import pandas as pd\n",
    "import matplotlib.pyplot as plt\n",
    "import random"
   ]
  },
  {
   "cell_type": "code",
   "execution_count": 19,
   "id": "3f5cf405",
   "metadata": {},
   "outputs": [
    {
     "data": {
      "text/plain": [
       "[15, 18, 12]"
      ]
     },
     "execution_count": 19,
     "metadata": {},
     "output_type": "execute_result"
    }
   ],
   "source": [
    "f = open('wine.data','r')\n",
    "types = [[],[],[]]                      #按类分的所有数据\n",
    "test_data = [[],[],[]]\n",
    "train_data = [[],[],[]]\n",
    "data_num = 0                            #数据总数\n",
    "test_len = []                           #测试集里每一类的个数\n",
    "mean = [[],[],[]]                       #每一类的均值\n",
    "std = [[],[],[]]                        #每一类的标准差\n",
    "myline = '1'\n",
    "while myline:\n",
    "    myline = f.readline().split(',')\n",
    "    if len(myline) != 14:\n",
    "        break\n",
    "    for t in range(len(myline)):\n",
    "        if t == 0:\n",
    "            myline[t] = int(myline[t])\n",
    "        else:\n",
    "            myline[t] = float(myline[t])\n",
    "    temp = myline.pop(0)\n",
    "    types[temp - 1].append(myline)\n",
    "test_len = [round(len(types[i]) / 4) for i in range(3)]\n",
    "data_num = sum([len(types[i]) for i in range(3)])\n",
    "test_len"
   ]
  },
  {
   "cell_type": "markdown",
   "id": "7ce8188c",
   "metadata": {},
   "source": [
    "### 分层采样"
   ]
  },
  {
   "cell_type": "code",
   "execution_count": 20,
   "id": "2ad8e54d",
   "metadata": {
    "scrolled": true
   },
   "outputs": [],
   "source": [
    "random.shuffle(types[0])\n",
    "random.shuffle(types[1])\n",
    "random.shuffle(types[2])\n",
    "for i in range(58):\n",
    "    if(i < test_len[0]):\n",
    "        test_data[0].append(types[0][i])\n",
    "    else:\n",
    "        train_data[0].append(types[0][i])\n",
    "for i in range(70):\n",
    "    if (i < test_len[1]):\n",
    "        test_data[1].append(types[1][i])\n",
    "    else:\n",
    "        train_data[1].append(types[1][i])\n",
    "for i in range(47):\n",
    "    if(i < test_len[2]):\n",
    "        test_data[2].append(types[2][i])\n",
    "    else:\n",
    "        train_data[2].append(types[2][i])"
   ]
  },
  {
   "cell_type": "code",
   "execution_count": 21,
   "id": "cdb469cc",
   "metadata": {},
   "outputs": [],
   "source": [
    "p = [(59-test_len[0])/data_num, (71-test_len[1])/data_num, (48-test_len[2])/data_num]\n",
    "w1_train = np.array(train_data[0])\n",
    "w2_train = np.array(train_data[1])\n",
    "w3_train = np.array(train_data[2])"
   ]
  },
  {
   "cell_type": "code",
   "execution_count": 22,
   "id": "9b30fd1b",
   "metadata": {},
   "outputs": [],
   "source": [
    "def Gauss_p(x, mean, std):\n",
    "    tmp = 1 / (2 * math.pi * std)\n",
    "    tmp1 = (x - mean)**2 / (2 * std**2)\n",
    "    return tmp * np.exp(-tmp1)"
   ]
  },
  {
   "cell_type": "code",
   "execution_count": 23,
   "id": "8ecf36dd",
   "metadata": {},
   "outputs": [],
   "source": [
    "def bayes_classificate():\n",
    "    mean[0] = np.mean(w1_train, axis=0)\n",
    "    std[0] = np.std(w1_train, axis=0)\n",
    "    mean[1] = np.mean(w2_train, axis=0)\n",
    "    std[1] = np.std(w2_train, axis=0)\n",
    "    mean[2] = np.mean(w3_train, axis=0)\n",
    "    std[2] = np.std(w3_train, axis=0)\n",
    "    wrong_num = 0\n",
    "    for i in range(3):\n",
    "        for t in test_data[i]:  # 两层循环：从每一类取每一个测试样本\n",
    "            my_type = []\n",
    "            for j in range(3):\n",
    "                tmp = p[j]\n",
    "                for d in range(13):\n",
    "                    tmp *= Gauss_p(t[d], mean[j][d], std[j][d])\n",
    "                my_type.append(tmp)  # 这里将所有score保存\n",
    "            pre_type = my_type.index(max(my_type))  # 取分值最大的为预测类别\n",
    "            if pre_type != i:  # 统计错误数\n",
    "                wrong_num += 1\n",
    "    return wrong_num"
   ]
  },
  {
   "cell_type": "code",
   "execution_count": 24,
   "id": "eed5cb90",
   "metadata": {
    "scrolled": true
   },
   "outputs": [
    {
     "name": "stdout",
     "output_type": "stream",
     "text": [
      "共测试45个样本，错误个数为1个，准确率为:0.9777777777777777\n"
     ]
    }
   ],
   "source": [
    "print(\"共测试{0}个样本，错误个数为{1}个，准确率为:{2}\".format(np.sum(test_len), bayes_classificate(), 1-(bayes_classificate()/np.sum(test_len))))"
   ]
  },
  {
   "cell_type": "markdown",
   "id": "b2ec8f7a",
   "metadata": {},
   "source": [
    "因为测试样本少，故准确率有较大浮动"
   ]
  },
  {
   "cell_type": "markdown",
   "id": "8fad3f62",
   "metadata": {},
   "source": [
    "## 中级要求\n",
    "使用测试集评估模型，得到混淆矩阵，精度，召回率，F值。"
   ]
  },
  {
   "cell_type": "code",
   "execution_count": 25,
   "id": "96080f87",
   "metadata": {},
   "outputs": [],
   "source": [
    "def get_Confusion_Matrix():\n",
    "    ConMat = [[0,0,0],\n",
    "              [0,0,0],\n",
    "              [0,0,0]]\n",
    "    for i in range(3):\n",
    "        for t in test_data[i]:  # 两层循环：从每一类取每一个测试样本\n",
    "            my_type = []\n",
    "            for j in range(3):\n",
    "                tmp = p[j]\n",
    "                for d in range(13):\n",
    "                    tmp *= Gauss_p(t[d], mean[j][d], std[j][d])\n",
    "                my_type.append(tmp)  # 这里将所有score保存\n",
    "            pre_type = my_type.index(max(my_type))  # 取分值最大的为预测类别\n",
    "            ConMat[i][pre_type] = ConMat[i][pre_type] + 1\n",
    "    return ConMat"
   ]
  },
  {
   "cell_type": "code",
   "execution_count": 26,
   "id": "9fea7775",
   "metadata": {},
   "outputs": [],
   "source": [
    "ConMat = get_Confusion_Matrix()\n",
    "tp = [0,0,0]\n",
    "fn = [0,0,0]\n",
    "fp = [0,0,0]\n",
    "tn = [0,0,0]\n",
    "for i in range(3):\n",
    "    for j in range(3):\n",
    "        if(i == j):\n",
    "            tp[i] =  ConMat[i][j]\n",
    "        else:\n",
    "            fp[i] = fp[i] + ConMat[i][j]\n",
    "    fn[i] = np.sum(ConMat, axis=0)[i] - tp[i]\n",
    "    tn[i] = np.sum(test_len) - (tp[i]+fp[i]+fn[i])"
   ]
  },
  {
   "cell_type": "code",
   "execution_count": 27,
   "id": "2b9f1165",
   "metadata": {},
   "outputs": [
    {
     "data": {
      "text/plain": [
       "([14, 18, 12], [0, 1, 0], [1, 0, 0], [30, 26, 33])"
      ]
     },
     "execution_count": 27,
     "metadata": {},
     "output_type": "execute_result"
    }
   ],
   "source": [
    "tp,fn,fp,tn"
   ]
  },
  {
   "cell_type": "code",
   "execution_count": 28,
   "id": "435d19f6",
   "metadata": {},
   "outputs": [
    {
     "name": "stdout",
     "output_type": "stream",
     "text": [
      "Precision: [0.9333333333333333, 1.0, 1.0]\n",
      "Recall: [1.0, 0.9473684210526315, 1.0]\n",
      "F-Measure: [0.9655172413793105, 0.972972972972973, 1.0]\n"
     ]
    }
   ],
   "source": [
    "precision = []\n",
    "recall = []\n",
    "f_measure = []\n",
    "for i in range(3):\n",
    "    precision.append(tp[i]/(tp[i]+fp[i]))\n",
    "    recall.append(tp[i]/(tp[i]+fn[i]))\n",
    "    f_measure.append(2/(1/precision[i]+1/recall[i]))\n",
    "print(\"Precision: \" + str(precision))\n",
    "print(\"Recall: \" + str(recall))\n",
    "print(\"F-Measure: \" + str(f_measure))"
   ]
  },
  {
   "cell_type": "markdown",
   "id": "f77b9eef",
   "metadata": {},
   "source": [
    "## 高级要求\n",
    "在中级要求的基础上画出三类数据的ROC曲线，并求出AUC值。"
   ]
  },
  {
   "cell_type": "code",
   "execution_count": 29,
   "id": "765b43d0",
   "metadata": {
    "scrolled": false
   },
   "outputs": [],
   "source": [
    "score = [[],[],[]]\n",
    "for k in range(3):\n",
    "    for i in range(3):\n",
    "        for j in test_data[i]:\n",
    "            tmp = []\n",
    "            tmp.append(i + 1)\n",
    "            tmp.append(p[i])\n",
    "            for d in range(13):\n",
    "                tmp[1] *= Gauss_p(j[d], mean[k][d], std[k][d])\n",
    "            score[k].append(tmp)\n",
    "    score[k] = np.array(score[k])\n",
    "    score[k] = score[k][np.lexsort(-score[k].T)]"
   ]
  },
  {
   "cell_type": "code",
   "execution_count": 30,
   "id": "de418d6d",
   "metadata": {
    "scrolled": true
   },
   "outputs": [],
   "source": [
    "x = [[],[],[]]\n",
    "y = [[],[],[]]\n",
    "a = np.zeros((3,45,2))\n",
    "for i in range(3):\n",
    "    tmp_x = 0\n",
    "    tmp_y = 0\n",
    "    k = 0\n",
    "    p = 1/(tp[i]+fp[i])\n",
    "    n = 1/(tn[i]+fn[i])\n",
    "    for j in score[i]:\n",
    "        if(j[0] == i+1):\n",
    "            tmp_y = tmp_y + p\n",
    "            a[i][k][0] = tmp_x\n",
    "            a[i][k][1] = tmp_y\n",
    "            k = k + 1\n",
    "            x[i].append(tmp_x)\n",
    "            y[i].append(tmp_y)\n",
    "        else:\n",
    "            tmp_x = tmp_x + n\n",
    "            a[i][k][0] = tmp_x\n",
    "            a[i][k][1] = tmp_y\n",
    "            k = k + 1\n",
    "            x[i].append(tmp_x)\n",
    "            y[i].append(tmp_y)"
   ]
  },
  {
   "cell_type": "code",
   "execution_count": 31,
   "id": "a3041165",
   "metadata": {},
   "outputs": [
    {
     "data": {
      "image/png": "[encoded data removed]",
      "text/plain": [
       "<Figure size 300x300 with 1 Axes>"
      ]
     },
     "metadata": {},
     "output_type": "display_data"
    }
   ],
   "source": [
    "plt.figure(figsize=(3,3))\n",
    "plt.plot(x[0],y[0])\n",
    "plt.show()"
   ]
  },
  {
   "cell_type": "code",
   "execution_count": 32,
   "id": "b34d0847",
   "metadata": {},
   "outputs": [
    {
     "data": {
      "image/png": "[encoded data removed]",
      "text/plain": [
       "<Figure size 300x300 with 1 Axes>"
      ]
     },
     "metadata": {},
     "output_type": "display_data"
    }
   ],
   "source": [
    "plt.figure(figsize=(3,3))\n",
    "plt.plot(x[1],y[1])\n",
    "plt.show()"
   ]
  },
  {
   "cell_type": "code",
   "execution_count": 33,
   "id": "7f39549a",
   "metadata": {},
   "outputs": [
    {
     "data": {
      "image/png": "[encoded data removed]",
      "text/plain": [
       "<Figure size 300x300 with 1 Axes>"
      ]
     },
     "metadata": {},
     "output_type": "display_data"
    }
   ],
   "source": [
    "plt.figure(figsize=(3,3))\n",
    "plt.plot(x[2],y[2])\n",
    "plt.show()"
   ]
  },
  {
   "cell_type": "code",
   "execution_count": 34,
   "id": "569831dd",
   "metadata": {},
   "outputs": [
    {
     "data": {
      "text/plain": [
       "[0.991111111111111, 0.9362139917695474, 0.9924242424242424]"
      ]
     },
     "execution_count": 34,
     "metadata": {},
     "output_type": "execute_result"
    }
   ],
   "source": [
    "auc = [0,0,0]\n",
    "for i in range(3):\n",
    "    n = (tn[i]+fn[i])\n",
    "    for j in range(a.shape[1] - 1):\n",
    "        if(a[i][j][0] != a[i][j + 1][0]):\n",
    "            auc[i] = auc[i] + a[i][j + 1][1]\n",
    "    auc[i] = auc[i]/n\n",
    "auc"
   ]
  }
 ],
 "metadata": {
  "kernelspec": {
   "display_name": "Python 3 (ipykernel)",
   "language": "python",
   "name": "python3"
  },
  "language_info": {
   "codemirror_mode": {
    "name": "ipython",
    "version": 3
   },
   "file_extension": ".py",
   "mimetype": "text/x-python",
   "name": "python",
   "nbconvert_exporter": "python",
   "pygments_lexer": "ipython3",
   "version": "3.10.7"
  }
 },
 "nbformat": 4,
 "nbformat_minor": 5
}
